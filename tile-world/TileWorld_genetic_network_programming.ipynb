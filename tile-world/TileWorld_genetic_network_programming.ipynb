{
  "nbformat": 4,
  "nbformat_minor": 0,
  "metadata": {
    "colab": {
      "provenance": [],
      "authorship_tag": "ABX9TyNjhR42kF42dLAhpoBeZL8P",
      "include_colab_link": true
    },
    "kernelspec": {
      "name": "python3",
      "display_name": "Python 3"
    },
    "language_info": {
      "name": "python"
    }
  },
  "cells": [
    {
      "cell_type": "markdown",
      "metadata": {
        "id": "view-in-github",
        "colab_type": "text"
      },
      "source": [
        "<a href=\"https://colab.research.google.com/github/ZIKZAK772/Artificial_intelligence/blob/master/tile-world/TileWorld_genetic_network_programming.ipynb\" target=\"_parent\"><img src=\"https://colab.research.google.com/assets/colab-badge.svg\" alt=\"Open In Colab\"/></a>"
      ]
    },
    {
      "cell_type": "code",
      "execution_count": 5,
      "metadata": {
        "id": "-2CTNN7L6jbi",
        "colab": {
          "base_uri": "https://localhost:8080/"
        },
        "outputId": "ef6f908f-4aa3-47b6-c0b4-73d7d8cfddd0"
      },
      "outputs": [
        {
          "output_type": "stream",
          "name": "stdout",
          "text": [
            "Solution found in generation: 8\n",
            "Solution:\n",
            "1 2 3\n",
            "4 5 6\n",
            "7 8 0\n",
            "\n"
          ]
        }
      ],
      "source": [
        "import random\n",
        "\n",
        "class TileWorldProblem:\n",
        "    def __init__(self):\n",
        "        self.initial_state = [[3, 6, 1],\n",
        "                              [4, 8, 2],\n",
        "                              [7, 0, 5]]\n",
        "        self.goal_state = [[1, 2, 3],\n",
        "                           [4, 5, 6],\n",
        "                           [7, 8, 0]]\n",
        "        self.moves = [(0, -1), (0, 1), (-1, 0), (1, 0)]  # left, right, up, down\n",
        "\n",
        "    def get_possible_moves(self, state):\n",
        "        empty_pos = self.find_empty_tile(state)\n",
        "        possible_moves = []\n",
        "        for move in self.moves:\n",
        "            new_pos = (empty_pos[0] + move[0], empty_pos[1] + move[1])\n",
        "            if self.is_valid_move(new_pos):\n",
        "                possible_moves.append(new_pos)\n",
        "        return possible_moves\n",
        "\n",
        "    def is_valid_move(self, position):\n",
        "        return 0 <= position[0] < 3 and 0 <= position[1] < 3\n",
        "\n",
        "    def find_empty_tile(self, state):\n",
        "        for i in range(3):\n",
        "            for j in range(3):\n",
        "                if state[i][j] == 0:\n",
        "                    return (i, j)\n",
        "        return None\n",
        "\n",
        "    def apply_move(self, state, move):\n",
        "        empty_pos = self.find_empty_tile(state)\n",
        "        new_state = [row[:] for row in state]  # Create a copy of the state\n",
        "        new_state[empty_pos[0]][empty_pos[1]] = new_state[move[0]][move[1]]\n",
        "        new_state[move[0]][move[1]] = 0\n",
        "        return new_state\n",
        "\n",
        "    def evaluate_fitness(self, state):\n",
        "        # Evaluate the fitness by counting the number of tiles in correct position\n",
        "        fitness = 0\n",
        "        for i in range(3):\n",
        "            for j in range(3):\n",
        "                if state[i][j] == self.goal_state[i][j]:\n",
        "                    fitness += 1\n",
        "        return fitness\n",
        "\n",
        "    def generate_random_individual(self, num_moves):\n",
        "        individual = []\n",
        "        state = self.initial_state\n",
        "        for _ in range(num_moves):\n",
        "            possible_moves = self.get_possible_moves(state)\n",
        "            move = random.choice(possible_moves)\n",
        "            individual.append(move)\n",
        "            state = self.apply_move(state, move)\n",
        "        return individual\n",
        "\n",
        "    def apply_individual(self, individual):\n",
        "        state = self.initial_state\n",
        "        for move in individual:\n",
        "            state = self.apply_move(state, move)\n",
        "        return state\n",
        "\n",
        "    def solve(self, population_size, num_generations):\n",
        "        population = [self.generate_random_individual(50) for _ in range(population_size)]\n",
        "        for generation in range(num_generations):\n",
        "            population = sorted(population, key=lambda x: self.evaluate_fitness(self.apply_individual(x)), reverse=True)\n",
        "            if self.evaluate_fitness(self.apply_individual(population[0])) == 9:\n",
        "                print(\"Solution found in generation:\", generation)\n",
        "                break\n",
        "            parents = self.select_parents(population)\n",
        "            population = self.reproduce(parents, population_size)\n",
        "        return population[0]\n",
        "\n",
        "    def select_parents(self, population):\n",
        "        # Tournament selection\n",
        "        parents = []\n",
        "        for _ in range(len(population)):\n",
        "            tournament = random.sample(population, 5)\n",
        "            winner = max(tournament, key=lambda x: self.evaluate_fitness(self.apply_individual(x)))\n",
        "            parents.append(winner)\n",
        "        return parents\n",
        "\n",
        "    def reproduce(self, parents, population_size):\n",
        "        # Single point crossover and mutation\n",
        "        new_population = []\n",
        "        while len(new_population) < population_size:\n",
        "            parent1, parent2 = random.sample(parents, 2)\n",
        "            crossover_point = random.randint(1, min(len(parent1), len(parent2)) - 1)\n",
        "            child = parent1[:crossover_point] + parent2[crossover_point:]\n",
        "            if random.random() < 0.1:\n",
        "                mutation_point = random.randint(0, len(child) - 1)\n",
        "                possible_moves = self.get_possible_moves(self.apply_individual(child))\n",
        "                mutated_move = random.choice(possible_moves)\n",
        "                child[mutation_point] = mutated_move\n",
        "            new_population.append(child)\n",
        "        return new_population\n",
        "\n",
        "def print_state(state):\n",
        "    for row in state:\n",
        "        print(\" \".join(map(str, row)))\n",
        "    print()\n",
        "\n",
        "def main():\n",
        "    problem = TileWorldProblem()\n",
        "    solution = problem.solve(population_size=300, num_generations=1000)\n",
        "    print(\"Solution:\")\n",
        "    print_state(problem.apply_individual(solution))\n",
        "\n",
        "if __name__ == \"__main__\":\n",
        "    main()\n"
      ]
    },
    {
      "cell_type": "code",
      "source": [],
      "metadata": {
        "id": "39AQbVCqe3qN"
      },
      "execution_count": null,
      "outputs": []
    }
  ]
}